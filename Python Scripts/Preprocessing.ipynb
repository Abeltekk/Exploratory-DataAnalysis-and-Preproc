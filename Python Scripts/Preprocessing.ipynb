{
 "cells": [
  {
   "cell_type": "code",
   "execution_count": 100,
   "metadata": {},
   "outputs": [],
   "source": [
    "# -*- coding: utf-8 -*-\n",
    "\"\"\"\n",
    "Created on Fri Sep 18 07:37:58 2020\n",
    "\n",
    "@author: hwicaksono\n",
    "\"\"\"\n",
    "\n",
    "\n",
    "import pandas as pd\n",
    "import numpy as np\n",
    "from sklearn.impute import SimpleImputer\n",
    "from sklearn.preprocessing import LabelEncoder, OneHotEncoder\n",
    "from sklearn.model_selection import train_test_split\n",
    "from sklearn.preprocessing import MinMaxScaler\n",
    "from sklearn.preprocessing import RobustScaler\n",
    "from sklearn.preprocessing import StandardScaler\n",
    "from sklearn.preprocessing import LabelBinarizer\n"
   ]
  },
  {
   "cell_type": "code",
   "execution_count": 101,
   "metadata": {},
   "outputs": [
    {
     "data": {
      "text/html": [
       "<div>\n",
       "<style scoped>\n",
       "    .dataframe tbody tr th:only-of-type {\n",
       "        vertical-align: middle;\n",
       "    }\n",
       "\n",
       "    .dataframe tbody tr th {\n",
       "        vertical-align: top;\n",
       "    }\n",
       "\n",
       "    .dataframe thead th {\n",
       "        text-align: right;\n",
       "    }\n",
       "</style>\n",
       "<table border=\"1\" class=\"dataframe\">\n",
       "  <thead>\n",
       "    <tr style=\"text-align: right;\">\n",
       "      <th></th>\n",
       "      <th>Country</th>\n",
       "      <th>Age</th>\n",
       "      <th>Salary</th>\n",
       "      <th>Purchased</th>\n",
       "    </tr>\n",
       "  </thead>\n",
       "  <tbody>\n",
       "    <tr>\n",
       "      <th>0</th>\n",
       "      <td>US</td>\n",
       "      <td>43.0</td>\n",
       "      <td>71000.0</td>\n",
       "      <td>No</td>\n",
       "    </tr>\n",
       "    <tr>\n",
       "      <th>1</th>\n",
       "      <td>UK</td>\n",
       "      <td>28.0</td>\n",
       "      <td>48000.0</td>\n",
       "      <td>Yes</td>\n",
       "    </tr>\n",
       "    <tr>\n",
       "      <th>2</th>\n",
       "      <td>Japan</td>\n",
       "      <td>30.0</td>\n",
       "      <td>54000.0</td>\n",
       "      <td>No</td>\n",
       "    </tr>\n",
       "    <tr>\n",
       "      <th>3</th>\n",
       "      <td>UK</td>\n",
       "      <td>38.0</td>\n",
       "      <td>60000.0</td>\n",
       "      <td>No</td>\n",
       "    </tr>\n",
       "    <tr>\n",
       "      <th>4</th>\n",
       "      <td>Japan</td>\n",
       "      <td>40.0</td>\n",
       "      <td>NaN</td>\n",
       "      <td>Yes</td>\n",
       "    </tr>\n",
       "    <tr>\n",
       "      <th>5</th>\n",
       "      <td>US</td>\n",
       "      <td>34.0</td>\n",
       "      <td>58000.0</td>\n",
       "      <td>Yes</td>\n",
       "    </tr>\n",
       "    <tr>\n",
       "      <th>6</th>\n",
       "      <td>UK</td>\n",
       "      <td>NaN</td>\n",
       "      <td>53000.0</td>\n",
       "      <td>No</td>\n",
       "    </tr>\n",
       "    <tr>\n",
       "      <th>7</th>\n",
       "      <td>US</td>\n",
       "      <td>46.0</td>\n",
       "      <td>79000.0</td>\n",
       "      <td>Yes</td>\n",
       "    </tr>\n",
       "    <tr>\n",
       "      <th>8</th>\n",
       "      <td>Japan</td>\n",
       "      <td>50.0</td>\n",
       "      <td>83000.0</td>\n",
       "      <td>No</td>\n",
       "    </tr>\n",
       "    <tr>\n",
       "      <th>9</th>\n",
       "      <td>US</td>\n",
       "      <td>37.0</td>\n",
       "      <td>66000.0</td>\n",
       "      <td>Yes</td>\n",
       "    </tr>\n",
       "  </tbody>\n",
       "</table>\n",
       "</div>"
      ],
      "text/plain": [
       "  Country   Age   Salary Purchased\n",
       "0      US  43.0  71000.0        No\n",
       "1      UK  28.0  48000.0       Yes\n",
       "2   Japan  30.0  54000.0        No\n",
       "3      UK  38.0  60000.0        No\n",
       "4   Japan  40.0      NaN       Yes\n",
       "5      US  34.0  58000.0       Yes\n",
       "6      UK   NaN  53000.0        No\n",
       "7      US  46.0  79000.0       Yes\n",
       "8   Japan  50.0  83000.0        No\n",
       "9      US  37.0  66000.0       Yes"
      ]
     },
     "execution_count": 101,
     "metadata": {},
     "output_type": "execute_result"
    }
   ],
   "source": [
    "# import dataset\n",
    "dataset = pd.read_csv(r\"D:\\Jacobs\\Lecture\\PTM\\Sources\\2021\\Exploratory Data Analysis and Preprocessing\\datasets\\Preprocessing.csv\")\n",
    "dataset"
   ]
  },
  {
   "cell_type": "code",
   "execution_count": 102,
   "metadata": {},
   "outputs": [
    {
     "data": {
      "text/plain": [
       "array([['US', 43.0, 71000.0],\n",
       "       ['UK', 28.0, 48000.0],\n",
       "       ['Japan', 30.0, 54000.0],\n",
       "       ['UK', 38.0, 60000.0],\n",
       "       ['Japan', 40.0, nan],\n",
       "       ['US', 34.0, 58000.0],\n",
       "       ['UK', nan, 53000.0],\n",
       "       ['US', 46.0, 79000.0],\n",
       "       ['Japan', 50.0, 83000.0],\n",
       "       ['US', 37.0, 66000.0]], dtype=object)"
      ]
     },
     "execution_count": 102,
     "metadata": {},
     "output_type": "execute_result"
    }
   ],
   "source": [
    "# first three columns as matrix. independent variable\n",
    "X = dataset.iloc[:,0:3].values\n",
    "X"
   ]
  },
  {
   "cell_type": "code",
   "execution_count": 103,
   "metadata": {},
   "outputs": [
    {
     "data": {
      "text/plain": [
       "array(['No', 'Yes', 'No', 'No', 'Yes', 'Yes', 'No', 'Yes', 'No', 'Yes'],\n",
       "      dtype=object)"
      ]
     },
     "execution_count": 103,
     "metadata": {},
     "output_type": "execute_result"
    }
   ],
   "source": [
    "# last column as vector, dependent variable\n",
    "y = dataset.iloc[:,-1].values\n",
    "y"
   ]
  },
  {
   "cell_type": "code",
   "execution_count": 104,
   "metadata": {},
   "outputs": [
    {
     "data": {
      "text/plain": [
       "array([['US', 43.0, 71000.0],\n",
       "       ['UK', 28.0, 48000.0],\n",
       "       ['Japan', 30.0, 54000.0],\n",
       "       ['UK', 38.0, 60000.0],\n",
       "       ['Japan', 40.0, 60000.0],\n",
       "       ['US', 34.0, 58000.0],\n",
       "       ['UK', 38.0, 53000.0],\n",
       "       ['US', 46.0, 79000.0],\n",
       "       ['Japan', 50.0, 83000.0],\n",
       "       ['US', 37.0, 66000.0]], dtype=object)"
      ]
     },
     "execution_count": 104,
     "metadata": {},
     "output_type": "execute_result"
    }
   ],
   "source": [
    "# Handling missing data\n",
    "from sklearn.impute import SimpleImputer\n",
    "imputer = SimpleImputer(missing_values = np.nan, strategy = 'median')\n",
    "imputer = imputer.fit(X[:,1:3])\n",
    "X[:, 1:3] = imputer.transform(X[:, 1:3])\n",
    "X"
   ]
  },
  {
   "cell_type": "code",
   "execution_count": 105,
   "metadata": {},
   "outputs": [
    {
     "data": {
      "text/plain": [
       "array([[2, 43.0, 71000.0],\n",
       "       [1, 28.0, 48000.0],\n",
       "       [0, 30.0, 54000.0],\n",
       "       [1, 38.0, 60000.0],\n",
       "       [0, 40.0, 60000.0],\n",
       "       [2, 34.0, 58000.0],\n",
       "       [1, 38.0, 53000.0],\n",
       "       [2, 46.0, 79000.0],\n",
       "       [0, 50.0, 83000.0],\n",
       "       [2, 37.0, 66000.0]], dtype=object)"
      ]
     },
     "execution_count": 105,
     "metadata": {},
     "output_type": "execute_result"
    }
   ],
   "source": [
    "# Encoding categorical data using label encoder\n",
    "labelencoder_X = LabelEncoder()\n",
    "X[:, 0] = labelencoder_X.fit_transform(X[:, 0])\n",
    "X"
   ]
  },
  {
   "cell_type": "code",
   "execution_count": 106,
   "metadata": {},
   "outputs": [
    {
     "data": {
      "text/html": [
       "<div>\n",
       "<style scoped>\n",
       "    .dataframe tbody tr th:only-of-type {\n",
       "        vertical-align: middle;\n",
       "    }\n",
       "\n",
       "    .dataframe tbody tr th {\n",
       "        vertical-align: top;\n",
       "    }\n",
       "\n",
       "    .dataframe thead th {\n",
       "        text-align: right;\n",
       "    }\n",
       "</style>\n",
       "<table border=\"1\" class=\"dataframe\">\n",
       "  <thead>\n",
       "    <tr style=\"text-align: right;\">\n",
       "      <th></th>\n",
       "      <th>0</th>\n",
       "      <th>1</th>\n",
       "      <th>2</th>\n",
       "      <th>Age</th>\n",
       "      <th>Salary</th>\n",
       "      <th>Purchased</th>\n",
       "    </tr>\n",
       "  </thead>\n",
       "  <tbody>\n",
       "    <tr>\n",
       "      <th>0</th>\n",
       "      <td>0</td>\n",
       "      <td>0</td>\n",
       "      <td>1</td>\n",
       "      <td>43.0</td>\n",
       "      <td>71000.0</td>\n",
       "      <td>No</td>\n",
       "    </tr>\n",
       "    <tr>\n",
       "      <th>1</th>\n",
       "      <td>0</td>\n",
       "      <td>1</td>\n",
       "      <td>0</td>\n",
       "      <td>28.0</td>\n",
       "      <td>48000.0</td>\n",
       "      <td>Yes</td>\n",
       "    </tr>\n",
       "    <tr>\n",
       "      <th>2</th>\n",
       "      <td>1</td>\n",
       "      <td>0</td>\n",
       "      <td>0</td>\n",
       "      <td>30.0</td>\n",
       "      <td>54000.0</td>\n",
       "      <td>No</td>\n",
       "    </tr>\n",
       "    <tr>\n",
       "      <th>3</th>\n",
       "      <td>0</td>\n",
       "      <td>1</td>\n",
       "      <td>0</td>\n",
       "      <td>38.0</td>\n",
       "      <td>60000.0</td>\n",
       "      <td>No</td>\n",
       "    </tr>\n",
       "    <tr>\n",
       "      <th>4</th>\n",
       "      <td>1</td>\n",
       "      <td>0</td>\n",
       "      <td>0</td>\n",
       "      <td>40.0</td>\n",
       "      <td>NaN</td>\n",
       "      <td>Yes</td>\n",
       "    </tr>\n",
       "    <tr>\n",
       "      <th>5</th>\n",
       "      <td>0</td>\n",
       "      <td>0</td>\n",
       "      <td>1</td>\n",
       "      <td>34.0</td>\n",
       "      <td>58000.0</td>\n",
       "      <td>Yes</td>\n",
       "    </tr>\n",
       "    <tr>\n",
       "      <th>6</th>\n",
       "      <td>0</td>\n",
       "      <td>1</td>\n",
       "      <td>0</td>\n",
       "      <td>NaN</td>\n",
       "      <td>53000.0</td>\n",
       "      <td>No</td>\n",
       "    </tr>\n",
       "    <tr>\n",
       "      <th>7</th>\n",
       "      <td>0</td>\n",
       "      <td>0</td>\n",
       "      <td>1</td>\n",
       "      <td>46.0</td>\n",
       "      <td>79000.0</td>\n",
       "      <td>Yes</td>\n",
       "    </tr>\n",
       "    <tr>\n",
       "      <th>8</th>\n",
       "      <td>1</td>\n",
       "      <td>0</td>\n",
       "      <td>0</td>\n",
       "      <td>50.0</td>\n",
       "      <td>83000.0</td>\n",
       "      <td>No</td>\n",
       "    </tr>\n",
       "    <tr>\n",
       "      <th>9</th>\n",
       "      <td>0</td>\n",
       "      <td>0</td>\n",
       "      <td>1</td>\n",
       "      <td>37.0</td>\n",
       "      <td>66000.0</td>\n",
       "      <td>Yes</td>\n",
       "    </tr>\n",
       "  </tbody>\n",
       "</table>\n",
       "</div>"
      ],
      "text/plain": [
       "   0  1  2   Age   Salary Purchased\n",
       "0  0  0  1  43.0  71000.0        No\n",
       "1  0  1  0  28.0  48000.0       Yes\n",
       "2  1  0  0  30.0  54000.0        No\n",
       "3  0  1  0  38.0  60000.0        No\n",
       "4  1  0  0  40.0      NaN       Yes\n",
       "5  0  0  1  34.0  58000.0       Yes\n",
       "6  0  1  0   NaN  53000.0        No\n",
       "7  0  0  1  46.0  79000.0       Yes\n",
       "8  1  0  0  50.0  83000.0        No\n",
       "9  0  0  1  37.0  66000.0       Yes"
      ]
     },
     "execution_count": 106,
     "metadata": {},
     "output_type": "execute_result"
    }
   ],
   "source": [
    "# Encoding categorical data using onehot encoder\n",
    "onehotencoder = LabelBinarizer()\n",
    "onehotencoder.fit(dataset['Country'])\n",
    "transformed = onehotencoder.transform(dataset['Country'])\n",
    "ohe_df = pd.DataFrame(transformed)\n",
    "dataset = pd.concat([ohe_df, dataset], axis=1).drop(['Country'], axis=1)\n",
    "dataset"
   ]
  },
  {
   "cell_type": "code",
   "execution_count": 107,
   "metadata": {},
   "outputs": [
    {
     "data": {
      "text/plain": [
       "array([[0.0e+00, 0.0e+00, 1.0e+00, 4.3e+01, 7.1e+04],\n",
       "       [0.0e+00, 1.0e+00, 0.0e+00, 2.8e+01, 4.8e+04],\n",
       "       [1.0e+00, 0.0e+00, 0.0e+00, 3.0e+01, 5.4e+04],\n",
       "       [0.0e+00, 1.0e+00, 0.0e+00, 3.8e+01, 6.0e+04],\n",
       "       [1.0e+00, 0.0e+00, 0.0e+00, 4.0e+01,     nan],\n",
       "       [0.0e+00, 0.0e+00, 1.0e+00, 3.4e+01, 5.8e+04],\n",
       "       [0.0e+00, 1.0e+00, 0.0e+00,     nan, 5.3e+04],\n",
       "       [0.0e+00, 0.0e+00, 1.0e+00, 4.6e+01, 7.9e+04],\n",
       "       [1.0e+00, 0.0e+00, 0.0e+00, 5.0e+01, 8.3e+04],\n",
       "       [0.0e+00, 0.0e+00, 1.0e+00, 3.7e+01, 6.6e+04]])"
      ]
     },
     "execution_count": 107,
     "metadata": {},
     "output_type": "execute_result"
    }
   ],
   "source": [
    "# first five columns as matrix. independent variable\n",
    "X = dataset.iloc[:,0:5].values\n",
    "X"
   ]
  },
  {
   "cell_type": "code",
   "execution_count": 108,
   "metadata": {},
   "outputs": [
    {
     "name": "stdout",
     "output_type": "stream",
     "text": [
      "[[0.0e+00 0.0e+00 1.0e+00 4.3e+01 7.1e+04]\n",
      " [0.0e+00 1.0e+00 0.0e+00 2.8e+01 4.8e+04]\n",
      " [1.0e+00 0.0e+00 0.0e+00 3.0e+01 5.4e+04]\n",
      " [0.0e+00 1.0e+00 0.0e+00 3.8e+01 6.0e+04]\n",
      " [1.0e+00 0.0e+00 0.0e+00 4.0e+01     nan]\n",
      " [0.0e+00 0.0e+00 1.0e+00 3.4e+01 5.8e+04]\n",
      " [0.0e+00 1.0e+00 0.0e+00     nan 5.3e+04]\n",
      " [0.0e+00 0.0e+00 1.0e+00 4.6e+01 7.9e+04]\n",
      " [1.0e+00 0.0e+00 0.0e+00 5.0e+01 8.3e+04]\n",
      " [0.0e+00 0.0e+00 1.0e+00 3.7e+01 6.6e+04]]\n",
      "['No' 'Yes' 'No' 'No' 'Yes' 'Yes' 'No' 'Yes' 'No' 'Yes']\n"
     ]
    }
   ],
   "source": [
    "# last column as vector, dependent variable\n",
    "y = dataset.iloc[:,-1].values\n",
    "print(X)\n",
    "print(y)"
   ]
  },
  {
   "cell_type": "code",
   "execution_count": 109,
   "metadata": {},
   "outputs": [
    {
     "data": {
      "text/plain": [
       "array([[0.0e+00, 0.0e+00, 1.0e+00, 4.3e+01, 7.1e+04],\n",
       "       [0.0e+00, 1.0e+00, 0.0e+00, 2.8e+01, 4.8e+04],\n",
       "       [1.0e+00, 0.0e+00, 0.0e+00, 3.0e+01, 5.4e+04],\n",
       "       [0.0e+00, 1.0e+00, 0.0e+00, 3.8e+01, 6.0e+04],\n",
       "       [1.0e+00, 0.0e+00, 0.0e+00, 4.0e+01, 6.0e+04],\n",
       "       [0.0e+00, 0.0e+00, 1.0e+00, 3.4e+01, 5.8e+04],\n",
       "       [0.0e+00, 1.0e+00, 0.0e+00, 3.8e+01, 5.3e+04],\n",
       "       [0.0e+00, 0.0e+00, 1.0e+00, 4.6e+01, 7.9e+04],\n",
       "       [1.0e+00, 0.0e+00, 0.0e+00, 5.0e+01, 8.3e+04],\n",
       "       [0.0e+00, 0.0e+00, 1.0e+00, 3.7e+01, 6.6e+04]])"
      ]
     },
     "execution_count": 109,
     "metadata": {},
     "output_type": "execute_result"
    }
   ],
   "source": [
    "# Handling missing data\n",
    "imputer = SimpleImputer(missing_values = np.nan, strategy = 'median')\n",
    "imputer = imputer.fit(X[:,:])\n",
    "X[:, :] = imputer.transform(X[:, :])\n",
    "X"
   ]
  },
  {
   "cell_type": "code",
   "execution_count": 110,
   "metadata": {},
   "outputs": [
    {
     "data": {
      "text/plain": [
       "array([0, 1, 0, 0, 1, 1, 0, 1, 0, 1])"
      ]
     },
     "execution_count": 110,
     "metadata": {},
     "output_type": "execute_result"
    }
   ],
   "source": [
    "# Label encoding for y\n",
    "labelencoder_y = LabelEncoder()\n",
    "y = labelencoder_y.fit_transform(y)\n",
    "y"
   ]
  },
  {
   "cell_type": "code",
   "execution_count": 111,
   "metadata": {},
   "outputs": [
    {
     "name": "stdout",
     "output_type": "stream",
     "text": [
      "[[1.0e+00 0.0e+00 0.0e+00 4.0e+01 6.0e+04]\n",
      " [0.0e+00 0.0e+00 1.0e+00 3.7e+01 6.6e+04]\n",
      " [0.0e+00 1.0e+00 0.0e+00 2.8e+01 4.8e+04]\n",
      " [0.0e+00 1.0e+00 0.0e+00 3.8e+01 5.3e+04]\n",
      " [0.0e+00 0.0e+00 1.0e+00 4.6e+01 7.9e+04]\n",
      " [0.0e+00 1.0e+00 0.0e+00 3.8e+01 6.0e+04]\n",
      " [0.0e+00 0.0e+00 1.0e+00 4.3e+01 7.1e+04]\n",
      " [0.0e+00 0.0e+00 1.0e+00 3.4e+01 5.8e+04]]\n",
      "[1 1 1 0 1 0 0 1]\n"
     ]
    }
   ],
   "source": [
    "#Splitting into training and test set\n",
    "X_train, X_test, y_train, y_test = train_test_split(X, y, test_size = 0.2, random_state=0)\n",
    "print (X_train)\n",
    "print (y_train)"
   ]
  },
  {
   "cell_type": "code",
   "execution_count": 112,
   "metadata": {},
   "outputs": [
    {
     "name": "stdout",
     "output_type": "stream",
     "text": [
      "[[1.         0.         0.         0.66666667 0.38709677]\n",
      " [0.         0.         1.         0.5        0.58064516]\n",
      " [0.         1.         0.         0.         0.        ]\n",
      " [0.         1.         0.         0.55555556 0.16129032]\n",
      " [0.         0.         1.         1.         1.        ]\n",
      " [0.         1.         0.         0.55555556 0.38709677]\n",
      " [0.         0.         1.         0.83333333 0.74193548]\n",
      " [0.         0.         1.         0.33333333 0.32258065]]\n",
      "[[ 1.          0.         -0.5         0.44444444  0.        ]\n",
      " [ 0.          0.          0.5        -0.22222222  0.57142857]\n",
      " [ 0.          1.         -0.5        -2.22222222 -1.14285714]\n",
      " [ 0.          1.         -0.5         0.         -0.66666667]\n",
      " [ 0.          0.          0.5         1.77777778  1.80952381]\n",
      " [ 0.          1.         -0.5         0.          0.        ]\n",
      " [ 0.          0.          0.5         1.11111111  1.04761905]\n",
      " [ 0.          0.          0.5        -0.88888889 -0.19047619]]\n",
      "[[ 2.64575131 -0.77459667 -1.          0.39036003 -0.20235196]\n",
      " [-0.37796447 -0.77459667  1.         -0.19518001  0.44517431]\n",
      " [-0.37796447  1.29099445 -1.         -1.95180015 -1.49740449]\n",
      " [-0.37796447  1.29099445 -1.          0.         -0.95779927]\n",
      " [-0.37796447 -0.77459667  1.          1.56144012  1.84814788]\n",
      " [-0.37796447  1.29099445 -1.          0.         -0.20235196]\n",
      " [-0.37796447 -0.77459667  1.          0.97590007  0.98477953]\n",
      " [-0.37796447 -0.77459667  1.         -0.78072006 -0.41819405]]\n"
     ]
    }
   ],
   "source": [
    "#Feature scaling\n",
    "\n",
    "#MinMax Scaler\n",
    "mmsc_X = MinMaxScaler()\n",
    "X_train1 = mmsc_X.fit_transform(X_train)\n",
    "print (X_train1)\n",
    "\n",
    "#RobustScaler\n",
    "rs_X = RobustScaler()\n",
    "X_train2 = rs_X.fit_transform(X_train)\n",
    "print (X_train2)\n",
    "\n",
    "#StandardScaler\n",
    "sc_X = StandardScaler()\n",
    "X_train3 = sc_X.fit_transform(X_train)\n",
    "print (X_train3)\n"
   ]
  },
  {
   "cell_type": "code",
   "execution_count": null,
   "metadata": {},
   "outputs": [],
   "source": []
  }
 ],
 "metadata": {
  "kernelspec": {
   "display_name": "Python 3",
   "language": "python",
   "name": "python3"
  },
  "language_info": {
   "codemirror_mode": {
    "name": "ipython",
    "version": 3
   },
   "file_extension": ".py",
   "mimetype": "text/x-python",
   "name": "python",
   "nbconvert_exporter": "python",
   "pygments_lexer": "ipython3",
   "version": "3.8.3"
  }
 },
 "nbformat": 4,
 "nbformat_minor": 4
}
